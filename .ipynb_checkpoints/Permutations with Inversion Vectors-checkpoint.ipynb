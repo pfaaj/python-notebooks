{
 "cells": [
  {
   "cell_type": "code",
   "execution_count": 1,
   "metadata": {
    "collapsed": false
   },
   "outputs": [],
   "source": [
    "# given an inversion vector find the next inversion vector in the lexicographical order\n",
    "# an inversion vector iv references a permutation of a given list p:\n",
    "# where iv[i] indicates to the left of p[i] there are iv[i] elements greater than p[i]\n",
    "# This means all iv's start with 0 (no elements to the left of position 0)\n",
    "def nextInvVec(curr_iv): \n",
    "    max_idx = 0\n",
    "    next_iv = []\n",
    "    for idx , val in enumerate(curr_iv):\n",
    "        if(val < idx):\n",
    "            max_idx = idx\n",
    "    print \"Max idx is \", max_idx        \n",
    "    if (max_idx != 0):\n",
    "        for i in range(max_idx):\n",
    "            next_iv.append(curr_iv[i])\n",
    "         \n",
    "        next_iv.append(curr_iv[max_idx] + 1)\n",
    "        if (max_idx + 1 < len(curr_iv)):\n",
    "            for i in range(max_idx + 1, len(curr_iv)):\n",
    "                next_iv.append(0)\n",
    "           \n",
    "    \n",
    "      \n",
    "    else:\n",
    "        next_iv = list(curr_iv)\n",
    "     \n",
    "    return next_iv\n",
    "        \n",
    "    \n",
    "\n",
    "\n",
    "    "
   ]
  },
  {
   "cell_type": "code",
   "execution_count": 2,
   "metadata": {
    "collapsed": false
   },
   "outputs": [
    {
     "name": "stdout",
     "output_type": "stream",
     "text": [
      "Max idx is  3\n",
      "[0, 0, 0, 2]\n"
     ]
    }
   ],
   "source": [
    "print nextInvVec([0,0,0,1])"
   ]
  },
  {
   "cell_type": "code",
   "execution_count": 3,
   "metadata": {
    "collapsed": false
   },
   "outputs": [
    {
     "name": "stdout",
     "output_type": "stream",
     "text": [
      "Max idx is  2\n",
      "[0, 0, 1, 0]\n"
     ]
    }
   ],
   "source": [
    "print nextInvVec([0,0,0,3])"
   ]
  },
  {
   "cell_type": "code",
   "execution_count": 4,
   "metadata": {
    "collapsed": false
   },
   "outputs": [
    {
     "name": "stdout",
     "output_type": "stream",
     "text": [
      "Max idx is  3\n",
      "[0, 0, 2, 1]\n"
     ]
    }
   ],
   "source": [
    "print nextInvVec([0,0,2,0])"
   ]
  },
  {
   "cell_type": "code",
   "execution_count": 5,
   "metadata": {
    "collapsed": false
   },
   "outputs": [
    {
     "name": "stdout",
     "output_type": "stream",
     "text": [
      "Max idx is  1\n",
      "[0, 1, 0, 0]\n"
     ]
    }
   ],
   "source": [
    "print nextInvVec([0,0,2,3])"
   ]
  },
  {
   "cell_type": "code",
   "execution_count": 6,
   "metadata": {
    "collapsed": true
   },
   "outputs": [],
   "source": [
    "def nextIV(curr_iv, min_idx): #counts only up to the min_idx, if min_idx == 1 (we generate all possible IV)\n",
    "    max_idx = 0\n",
    "    next_iv = []\n",
    "    for idx , val in enumerate(curr_iv):\n",
    "        if(val < idx):\n",
    "            max_idx = idx\n",
    "    #print \"Max idx is \", max_idx        \n",
    "    if (max_idx >= min_idx):\n",
    "        for i in range(max_idx):\n",
    "            next_iv.append(curr_iv[i])\n",
    "         \n",
    "        next_iv.append(curr_iv[max_idx] + 1)\n",
    "        if (max_idx + 1 < len(curr_iv)):\n",
    "            for i in range(max_idx + 1, len(curr_iv)):\n",
    "                next_iv.append(0)\n",
    "           \n",
    "    \n",
    "      \n",
    "    else:\n",
    "        next_iv = list(curr_iv)\n",
    "     \n",
    "    return next_iv"
   ]
  },
  {
   "cell_type": "code",
   "execution_count": 7,
   "metadata": {
    "collapsed": false
   },
   "outputs": [
    {
     "name": "stdout",
     "output_type": "stream",
     "text": [
      "[0, 0, 2, 3]\n"
     ]
    }
   ],
   "source": [
    "print nextIV([0,0,2,2], 2)"
   ]
  },
  {
   "cell_type": "code",
   "execution_count": 8,
   "metadata": {
    "collapsed": false
   },
   "outputs": [
    {
     "name": "stdout",
     "output_type": "stream",
     "text": [
      "See that nextInvVect does not count up, i.e. returns the same IV\n",
      "[0, 0, 2, 3]\n"
     ]
    }
   ],
   "source": [
    "print \"See that nextInvVect does not count up, i.e. returns the same IV\"\n",
    "print nextIV([0,0,2,3], 2)"
   ]
  },
  {
   "cell_type": "code",
   "execution_count": 9,
   "metadata": {
    "collapsed": false
   },
   "outputs": [],
   "source": [
    "def getPermutation(to_permutate, iv):\n",
    "    permutation = [0 for x in to_permutate]\n",
    "    xs = sorted(to_permutate) #sorted permutation list\n",
    "    idx_to_insert = len(to_permutate) - 1 #we will find the last element of the permutation in the sorted seq\n",
    "    while(xs): #if xs is not empty\n",
    "        #pick an element\n",
    "        idx = len(xs) - 1 - iv[len(xs) - 1]\n",
    "        #print \"Picked \", xs[idx], \" at \", idx_to_insert , \" size = \", len(xs)\n",
    "        #copy to its permutation position\n",
    "        permutation[idx_to_insert] = xs[idx]\n",
    "        idx_to_insert = idx_to_insert  - 1; \n",
    "        #remove it from the sorted list\n",
    "        xs.pop(idx);\n",
    "    \n",
    "    return permutation;\n"
   ]
  },
  {
   "cell_type": "code",
   "execution_count": 10,
   "metadata": {
    "collapsed": false
   },
   "outputs": [
    {
     "name": "stdout",
     "output_type": "stream",
     "text": [
      "[1, 2, 3, 4, 5]\n"
     ]
    }
   ],
   "source": [
    "print getPermutation([1,2,3,4,5], [0,0,0,0,0])"
   ]
  },
  {
   "cell_type": "code",
   "execution_count": 11,
   "metadata": {
    "collapsed": false
   },
   "outputs": [
    {
     "name": "stdout",
     "output_type": "stream",
     "text": [
      "[1, 2, 3, 5, 4]\n"
     ]
    }
   ],
   "source": [
    "print getPermutation([1,2,3,4,5], [0,0,0,0,1])"
   ]
  },
  {
   "cell_type": "code",
   "execution_count": 12,
   "metadata": {
    "collapsed": false
   },
   "outputs": [
    {
     "name": "stdout",
     "output_type": "stream",
     "text": [
      "[1, 2, 4, 5, 3]\n"
     ]
    }
   ],
   "source": [
    "print getPermutation([1,2,3,4,5], [0,0,0,0,2])"
   ]
  },
  {
   "cell_type": "code",
   "execution_count": 13,
   "metadata": {
    "collapsed": false
   },
   "outputs": [
    {
     "name": "stdout",
     "output_type": "stream",
     "text": [
      "[1, 3, 2, 4, 5]\n"
     ]
    }
   ],
   "source": [
    "print getPermutation([1,2,3,4,5], [0,0,1,0,0])"
   ]
  },
  {
   "cell_type": "code",
   "execution_count": 14,
   "metadata": {
    "collapsed": false
   },
   "outputs": [
    {
     "name": "stdout",
     "output_type": "stream",
     "text": [
      "[5, 4, 3, 2, 1]\n"
     ]
    }
   ],
   "source": [
    "print getPermutation([1,2,3,4,5], [0,1,2,3,4]) #sort in descending order"
   ]
  },
  {
   "cell_type": "code",
   "execution_count": 15,
   "metadata": {
    "collapsed": false
   },
   "outputs": [
    {
     "name": "stdout",
     "output_type": "stream",
     "text": [
      "[9, 4, 2, 1, 0]\n"
     ]
    }
   ],
   "source": [
    "print getPermutation([0,4,9,2,1], [0,1,2,3,4]) #sort in descending order"
   ]
  },
  {
   "cell_type": "code",
   "execution_count": 16,
   "metadata": {
    "collapsed": false
   },
   "outputs": [],
   "source": [
    "def permutationsOf(to_permutate, min_idx = 1, init_iv = None): #trick to initialize init_iv using to_permutate\n",
    "    if(init_iv is None):\n",
    "        init_iv = [0 for x in to_permutate]\n",
    "    curr_iv = init_iv\n",
    "    next_iv = nextIV(curr_iv, min_idx)\n",
    "    curr_p = getPermutation(to_permutate, init_iv) # initial permutation is the original\n",
    "    yield curr_p #first permutation of the list\n",
    "    next_p = getPermutation(curr_p, next_iv)\n",
    "    while(curr_iv != next_iv):\n",
    "        yield next_p\n",
    "        curr_p = next_p\n",
    "        curr_iv = next_iv\n",
    "        next_iv = nextIV(curr_iv, min_idx)\n",
    "        next_p = getPermutation(curr_p, next_iv)"
   ]
  },
  {
   "cell_type": "code",
   "execution_count": 17,
   "metadata": {
    "collapsed": false
   },
   "outputs": [
    {
     "name": "stdout",
     "output_type": "stream",
     "text": [
      "[1, 2, 3, 4] [1, 2, 4, 3] [1, 3, 4, 2] [2, 3, 4, 1] [1, 3, 2, 4] [1, 4, 2, 3] [1, 4, 3, 2] [2, 4, 3, 1] [2, 3, 1, 4] [2, 4, 1, 3] [3, 4, 1, 2] [3, 4, 2, 1] [2, 1, 3, 4] [2, 1, 4, 3] [3, 1, 4, 2] [3, 2, 4, 1] [3, 1, 2, 4] [4, 1, 2, 3] [4, 1, 3, 2] [4, 2, 3, 1] [3, 2, 1, 4] [4, 2, 1, 3] [4, 3, 1, 2] [4, 3, 2, 1]\n"
     ]
    }
   ],
   "source": [
    "for p in permutationsOf([1,2,3,4], 1):\n",
    "    print p,"
   ]
  },
  {
   "cell_type": "code",
   "execution_count": 18,
   "metadata": {
    "collapsed": false
   },
   "outputs": [
    {
     "name": "stdout",
     "output_type": "stream",
     "text": [
      "[1, 2, 3] [1, 3, 2] [2, 3, 1] [2, 1, 3] [3, 1, 2] [3, 2, 1]\n"
     ]
    }
   ],
   "source": [
    "for p in permutationsOf([1,2,3]): #default min_idx is 1 (generate all permutations)\n",
    "    print p,"
   ]
  },
  {
   "cell_type": "code",
   "execution_count": 19,
   "metadata": {
    "collapsed": false
   },
   "outputs": [
    {
     "name": "stdout",
     "output_type": "stream",
     "text": [
      "[1, 2, 3] [1, 3, 2] [2, 3, 1]\n"
     ]
    }
   ],
   "source": [
    "for p in permutationsOf([1,2,3], min_idx = 2): #generates one half of the permutations\n",
    "    print p,"
   ]
  },
  {
   "cell_type": "code",
   "execution_count": 20,
   "metadata": {
    "collapsed": false
   },
   "outputs": [
    {
     "name": "stdout",
     "output_type": "stream",
     "text": [
      "[2, 1, 3] [3, 1, 2] [3, 2, 1]\n"
     ]
    }
   ],
   "source": [
    "for p in permutationsOf([1,2,3], init_iv = [0,1,0]): # setting init_iv[1] = 1, \n",
    "                                                     # generates the other half of the permutations  \n",
    "    print p,"
   ]
  },
  {
   "cell_type": "code",
   "execution_count": null,
   "metadata": {
    "collapsed": true
   },
   "outputs": [],
   "source": []
  }
 ],
 "metadata": {
  "kernelspec": {
   "display_name": "Python 2",
   "language": "python",
   "name": "python2"
  },
  "language_info": {
   "codemirror_mode": {
    "name": "ipython",
    "version": 2
   },
   "file_extension": ".py",
   "mimetype": "text/x-python",
   "name": "python",
   "nbconvert_exporter": "python",
   "pygments_lexer": "ipython2",
   "version": "2.7.12"
  }
 },
 "nbformat": 4,
 "nbformat_minor": 0
}
