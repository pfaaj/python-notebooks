{
 "cells": [
  {
   "cell_type": "markdown",
   "metadata": {},
   "source": [
    "\n",
    "   # Zusammenfassung \n",
    "\n",
    "<pre> Wir werden eine Funktion teilmenge(n) implementieren die eine Liste aller Teilmengen der Menge  [1, 2,..., n] erzeugt</pre>\n",
    "\n",
    "<pre> teilmenge(n) nimmt eine natürliche Zahl als eingabe (den Typ von der Eingabe überlegt Python selbst)</pre> \n",
    "\n",
    "<pre> Liste können in python mit \"+\" konkateniert werden z.B. [1] + [2] = [1,2]. </pre>\n",
    " \n",
    "<pre> In Python können Liste auch durch List Comprehensions erzeugt werden. </pre>\n",
    " \n",
    "<pre> z.B. Sei lst eine Liste lst = [1, 4, 6] und die List Comprehension [ 3*x for x in lst] =  [3, 12, 18]  </pre>\n",
    " \n",
    "<pre> Ein weiteres Beispiel wäre [ [x, 2*x] for x in lst] = [ [1, 2], [4,8], [6,12] ]  \n",
    "(hier haben wir eine Liste von Listen erzeugt)  </pre>\n",
    "\n",
    "<pre> Das heißt [menge for menge in teilmenge(n - 1 ) ]  erzeugt die Menge von allen Teilmengen von [1, 2, ..., (n-1) ] </pre>\n",
    "\n",
    "<pre> z.B für n = 3 -> [x for x in teilmenge(2) ] = [[] , [1] , [2] , [1,2] ] </pre>\n",
    "\n",
    "<pre> [menge + [n] for menge in teilmenge(n - 1 ) ] erzeugt die Menge aller Teilmengen von [1 .. (n-1)]</pre>\n",
    "\n",
    "<pre> wobei zu jeder Teilmenge wird n zusätzlich hinzugefügt: das heißt! </pre>\n",
    "\n",
    "<pre> z.B für n = 3 -> [x + [n] for x in teilmenge(2) ] = [[] + [3], [1] + [3], [2] + [3] , [1,2] + [3]]</pre> \n",
    "<pre> = [[3], [1,3], [2,3], [1,2,3]] </pre>\n",
    "\n",
    "<pre> Am Ende ist das Ergebnis von teilmenge(3) = [[], [1], [2], [1, 2], [3], [1, 3], [2, 3], [1, 2, 3]]</pre>\n"
   ]
  },
  {
   "cell_type": "code",
   "execution_count": 9,
   "metadata": {
    "collapsed": true
   },
   "outputs": [],
   "source": [
    "#Hier ist unsere Funktion in weniger Zeilen :)\n",
    "def teilmenge(n): #[1..n]\n",
    "    if n == 1:\n",
    "        return [[], [1]] # Stoppbedingung unserer Rekursion, alle Teilmengen von [1] sind [[], [1]]\n",
    "    else: \n",
    "        return [ e for e in teilmenge(n - 1 ) ] + [e + [n] for e in teilmenge(n - 1 ) ] \n",
    "    "
   ]
  },
  {
   "cell_type": "code",
   "execution_count": 10,
   "metadata": {
    "collapsed": false
   },
   "outputs": [
    {
     "name": "stdout",
     "output_type": "stream",
     "text": [
      "[1, 2]\n",
      "[2, 3, 4, 5]\n",
      "[6, 7, 7, 8]\n"
     ]
    }
   ],
   "source": [
    "# Liste können in python mit \"+\" konkateniert werden z.B. [1] + [2] = [1,2]\n",
    "print [1] + [2]\n",
    "print [2,3] + [4,5]\n",
    "print [6,7] + [7,8]"
   ]
  },
  {
   "cell_type": "code",
   "execution_count": 8,
   "metadata": {
    "collapsed": false,
    "scrolled": true
   },
   "outputs": [
    {
     "name": "stdout",
     "output_type": "stream",
     "text": [
      "[1]\n",
      "[3, 12, 18]\n",
      "[9, 144, 324]\n"
     ]
    }
   ],
   "source": [
    "# In Python können  Liste mit List Comprehension erzeugt werden.\n",
    "# z.B. Sei lst eine Liste lst = [1, 4, 6] und die List Comprehension [3*x for x in lst] =  [3, 12, 18]\n",
    "lst = [1,4,6]\n",
    "mal_3 =  [3*x for x in lst] #für alle Elemente x in der Liste \"lst\" fügt 3*x zur neuen Liste \"mal_3\" \n",
    "squared = [x*x for x in mal_3] #für alle Elemente x in mal_3, berechnet x*x und fügt es zu der neuen Liste hinzu\n",
    "\n",
    "lstg = [x for x in lst if x%2 == 1]\n",
    "\n",
    "print lstg\n",
    "print mal_3\n",
    "print squared\n"
   ]
  },
  {
   "cell_type": "code",
   "execution_count": 13,
   "metadata": {
    "collapsed": false
   },
   "outputs": [
    {
     "name": "stdout",
     "output_type": "stream",
     "text": [
      "[[1, 2], [4, 8], [6, 12]]\n"
     ]
    }
   ],
   "source": [
    "#ein weiteres Beispiel wäre [ [x, 2*x] for x in lst] = [ [1, 2], [4,8], [6,12] ] \n",
    "# (hier haben wir eine Liste von Listen erzeugt \n",
    "print [ [x, 2*x] for x in lst]"
   ]
  },
  {
   "cell_type": "code",
   "execution_count": 6,
   "metadata": {
    "collapsed": false
   },
   "outputs": [
    {
     "name": "stdout",
     "output_type": "stream",
     "text": [
      "[[], [1], [2], [1, 2], [3], [1, 3], [2, 3], [1, 2, 3]]\n"
     ]
    }
   ],
   "source": [
    "#[menge for menge in subsets(n - 1 ) ] -> konstruiert die Menge von allen Teilmengen von [1.. (n-1) ]\n",
    "n = 3 # z.B für n = 3 -> [[] , [1] , [2] , [1,2] ]\n",
    "\n",
    "\n",
    "liste1 = [menge for menge in teilmenge(n - 1 ) ]\n",
    "liste2 = [menge + [3] for menge in teilmenge(n - 1 ) ]\n",
    "\n",
    "ergebnis = liste1 + liste2\n",
    "\n",
    "print ergebnis"
   ]
  },
  {
   "cell_type": "code",
   "execution_count": 2,
   "metadata": {
    "collapsed": false
   },
   "outputs": [
    {
     "name": "stdout",
     "output_type": "stream",
     "text": [
      "Alle Teilmengen von [1, 2, ... 3 ] =  [[], [1], [2], [1, 2], [3], [1, 3], [2, 3], [1, 2, 3]]\n"
     ]
    }
   ],
   "source": [
    "print \"Alle Teilmengen von [1, 2, ...\", 3, \"] = \", teilmenge(3)"
   ]
  },
  {
   "cell_type": "code",
   "execution_count": 3,
   "metadata": {
    "collapsed": false
   },
   "outputs": [
    {
     "name": "stdout",
     "output_type": "stream",
     "text": [
      "Alle Teilmengen von [1, 2, ... 5 ] =  [[], [1], [2], [1, 2], [3], [1, 3], [2, 3], [1, 2, 3], [4], [1, 4], [2, 4], [1, 2, 4], [3, 4], [1, 3, 4], [2, 3, 4], [1, 2, 3, 4], [5], [1, 5], [2, 5], [1, 2, 5], [3, 5], [1, 3, 5], [2, 3, 5], [1, 2, 3, 5], [4, 5], [1, 4, 5], [2, 4, 5], [1, 2, 4, 5], [3, 4, 5], [1, 3, 4, 5], [2, 3, 4, 5], [1, 2, 3, 4, 5]]\n"
     ]
    }
   ],
   "source": [
    "print \"Alle Teilmengen von [1, 2, ...\", 5, \"] = \", teilmenge(5)\n",
    "                                                            "
   ]
  },
  {
   "cell_type": "code",
   "execution_count": 15,
   "metadata": {
    "collapsed": false
   },
   "outputs": [
    {
     "name": "stdout",
     "output_type": "stream",
     "text": [
      "Alle Teilmengen von [1, 2, ... 7 ] =  [[], [1], [2], [1, 2], [3], [1, 3], [2, 3], [1, 2, 3], [4], [1, 4], [2, 4], [1, 2, 4], [3, 4], [1, 3, 4], [2, 3, 4], [1, 2, 3, 4], [5], [1, 5], [2, 5], [1, 2, 5], [3, 5], [1, 3, 5], [2, 3, 5], [1, 2, 3, 5], [4, 5], [1, 4, 5], [2, 4, 5], [1, 2, 4, 5], [3, 4, 5], [1, 3, 4, 5], [2, 3, 4, 5], [1, 2, 3, 4, 5], [6], [1, 6], [2, 6], [1, 2, 6], [3, 6], [1, 3, 6], [2, 3, 6], [1, 2, 3, 6], [4, 6], [1, 4, 6], [2, 4, 6], [1, 2, 4, 6], [3, 4, 6], [1, 3, 4, 6], [2, 3, 4, 6], [1, 2, 3, 4, 6], [5, 6], [1, 5, 6], [2, 5, 6], [1, 2, 5, 6], [3, 5, 6], [1, 3, 5, 6], [2, 3, 5, 6], [1, 2, 3, 5, 6], [4, 5, 6], [1, 4, 5, 6], [2, 4, 5, 6], [1, 2, 4, 5, 6], [3, 4, 5, 6], [1, 3, 4, 5, 6], [2, 3, 4, 5, 6], [1, 2, 3, 4, 5, 6], [7], [1, 7], [2, 7], [1, 2, 7], [3, 7], [1, 3, 7], [2, 3, 7], [1, 2, 3, 7], [4, 7], [1, 4, 7], [2, 4, 7], [1, 2, 4, 7], [3, 4, 7], [1, 3, 4, 7], [2, 3, 4, 7], [1, 2, 3, 4, 7], [5, 7], [1, 5, 7], [2, 5, 7], [1, 2, 5, 7], [3, 5, 7], [1, 3, 5, 7], [2, 3, 5, 7], [1, 2, 3, 5, 7], [4, 5, 7], [1, 4, 5, 7], [2, 4, 5, 7], [1, 2, 4, 5, 7], [3, 4, 5, 7], [1, 3, 4, 5, 7], [2, 3, 4, 5, 7], [1, 2, 3, 4, 5, 7], [6, 7], [1, 6, 7], [2, 6, 7], [1, 2, 6, 7], [3, 6, 7], [1, 3, 6, 7], [2, 3, 6, 7], [1, 2, 3, 6, 7], [4, 6, 7], [1, 4, 6, 7], [2, 4, 6, 7], [1, 2, 4, 6, 7], [3, 4, 6, 7], [1, 3, 4, 6, 7], [2, 3, 4, 6, 7], [1, 2, 3, 4, 6, 7], [5, 6, 7], [1, 5, 6, 7], [2, 5, 6, 7], [1, 2, 5, 6, 7], [3, 5, 6, 7], [1, 3, 5, 6, 7], [2, 3, 5, 6, 7], [1, 2, 3, 5, 6, 7], [4, 5, 6, 7], [1, 4, 5, 6, 7], [2, 4, 5, 6, 7], [1, 2, 4, 5, 6, 7], [3, 4, 5, 6, 7], [1, 3, 4, 5, 6, 7], [2, 3, 4, 5, 6, 7], [1, 2, 3, 4, 5, 6, 7]]\n"
     ]
    }
   ],
   "source": [
    "#Man merkt hier schon wie praktisch es ist eine Funktion anzulegen die das automatisch berechnet...\n",
    "print \"Alle Teilmengen von [1, 2, ...\", 7, \"] = \", teilmenge(7)\n"
   ]
  },
  {
   "cell_type": "code",
   "execution_count": 21,
   "metadata": {
    "collapsed": false
   },
   "outputs": [
    {
     "name": "stdout",
     "output_type": "stream",
     "text": [
      "Die Summe aller Elemente von [0, 1, 2, 3, 4, 5] ist  15\n"
     ]
    }
   ],
   "source": [
    "#Sei eine Liste l1 = [0,1,2,3,4,5] wie berechnen wir die Summe seiner Elementen in python?\n",
    "\n",
    "l1 = range(6) # [0, 1, .. 5]\n",
    "summe = 0\n",
    "for x in l1: \n",
    "    summe += x\n",
    "print \"Die Summe aller Elemente von\", l1, \"ist \",summe\n"
   ]
  },
  {
   "cell_type": "code",
   "execution_count": 23,
   "metadata": {
    "collapsed": true
   },
   "outputs": [],
   "source": [
    "#Wir können auch natürlich den obigen Code in einer Funktion summeVon(liste) enkapsulieren\n",
    "#und zwar so\n",
    "def summeVon(liste):\n",
    "    summe = 0\n",
    "    for x in liste:\n",
    "        summe += x\n",
    "    return summe;   \n",
    "    "
   ]
  },
  {
   "cell_type": "code",
   "execution_count": 24,
   "metadata": {
    "collapsed": false
   },
   "outputs": [
    {
     "name": "stdout",
     "output_type": "stream",
     "text": [
      "6\n"
     ]
    }
   ],
   "source": [
    "print summeVon([1,2,3])"
   ]
  },
  {
   "cell_type": "code",
   "execution_count": 25,
   "metadata": {
    "collapsed": false
   },
   "outputs": [
    {
     "name": "stdout",
     "output_type": "stream",
     "text": [
      "26\n"
     ]
    }
   ],
   "source": [
    "print summeVon([5,9,12])"
   ]
  },
  {
   "cell_type": "code",
   "execution_count": 32,
   "metadata": {
    "collapsed": false
   },
   "outputs": [
    {
     "name": "stdout",
     "output_type": "stream",
     "text": [
      " Summe von range(101) =  summeVon( [0, 1, 2, 3, 4, 5, 6, 7, 8, 9, 10, 11, 12, 13, 14, 15, 16, 17, 18, 19, 20, 21, 22, 23, 24, 25, 26, 27, 28, 29, 30, 31, 32, 33, 34, 35, 36, 37, 38, 39, 40, 41, 42, 43, 44, 45, 46, 47, 48, 49, 50, 51, 52, 53, 54, 55, 56, 57, 58, 59, 60, 61, 62, 63, 64, 65, 66, 67, 68, 69, 70, 71, 72, 73, 74, 75, 76, 77, 78, 79, 80, 81, 82, 83, 84, 85, 86, 87, 88, 89, 90, 91, 92, 93, 94, 95, 96, 97, 98, 99, 100] ) = \n",
      "5050\n"
     ]
    }
   ],
   "source": [
    "print \" Summe von range(101) = \", \"summeVon(\", range(101), \") = \"\n",
    "print summeVon(range(101))"
   ]
  },
  {
   "cell_type": "code",
   "execution_count": null,
   "metadata": {
    "collapsed": true
   },
   "outputs": [],
   "source": []
  }
 ],
 "metadata": {
  "kernelspec": {
   "display_name": "Python 2",
   "language": "python",
   "name": "python2"
  },
  "language_info": {
   "codemirror_mode": {
    "name": "ipython",
    "version": 2
   },
   "file_extension": ".py",
   "mimetype": "text/x-python",
   "name": "python",
   "nbconvert_exporter": "python",
   "pygments_lexer": "ipython2",
   "version": "2.7.11"
  }
 },
 "nbformat": 4,
 "nbformat_minor": 0
}
